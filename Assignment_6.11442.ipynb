{
 "cells": [
  {
   "cell_type": "code",
   "execution_count": null,
   "metadata": {},
   "outputs": [],
   "source": [
    "## Read the dataset from the below link \n",
    "https://raw.githubusercontent.com/guipsamora/pandas_exercises/master/06_Stats/US _Baby_Names/US_Baby_Names_right.csv"
   ]
  },
  {
   "cell_type": "code",
   "execution_count": 1,
   "metadata": {},
   "outputs": [],
   "source": [
    "import os\n",
    "import pandas as pd\n",
    "import matplotlib"
   ]
  },
  {
   "cell_type": "code",
   "execution_count": 6,
   "metadata": {},
   "outputs": [],
   "source": [
    "df = pd.read_csv('https://raw.githubusercontent.com/guipsamora/pandas_exercises/master/06_Stats/US_Baby_Names/US_Baby_Names_right.csv')"
   ]
  },
  {
   "cell_type": "code",
   "execution_count": null,
   "metadata": {},
   "outputs": [],
   "source": [
    "## 1. Delete unnamed columns"
   ]
  },
  {
   "cell_type": "code",
   "execution_count": 8,
   "metadata": {},
   "outputs": [
    {
     "name": "stdout",
     "output_type": "stream",
     "text": [
      "              Name  Year Gender State  Count\n",
      "0             Emma  2004      F    AK     62\n",
      "1          Madison  2004      F    AK     48\n",
      "2           Hannah  2004      F    AK     46\n",
      "3            Grace  2004      F    AK     44\n",
      "4            Emily  2004      F    AK     41\n",
      "5          Abigail  2004      F    AK     37\n",
      "6           Olivia  2004      F    AK     33\n",
      "7         Isabella  2004      F    AK     30\n",
      "8           Alyssa  2004      F    AK     29\n",
      "9           Sophia  2004      F    AK     28\n",
      "10          Alexis  2004      F    AK     27\n",
      "11       Elizabeth  2004      F    AK     27\n",
      "12          Hailey  2004      F    AK     27\n",
      "13            Anna  2004      F    AK     26\n",
      "14         Natalie  2004      F    AK     25\n",
      "15           Sarah  2004      F    AK     25\n",
      "16          Sydney  2004      F    AK     25\n",
      "17             Ava  2004      F    AK     23\n",
      "18         Trinity  2004      F    AK     22\n",
      "19           Haley  2004      F    AK     21\n",
      "20          Kaylee  2004      F    AK     21\n",
      "21          Taylor  2004      F    AK     21\n",
      "22           Chloe  2004      F    AK     20\n",
      "23            Ella  2004      F    AK     20\n",
      "24       Mackenzie  2004      F    AK     20\n",
      "25          Sierra  2004      F    AK     19\n",
      "26           Kayla  2004      F    AK     18\n",
      "27        Samantha  2004      F    AK     18\n",
      "28             Zoe  2004      F    AK     18\n",
      "29         Jessica  2004      F    AK     17\n",
      "...            ...   ...    ...   ...    ...\n",
      "1016365     Brooks  2014      M    WY      5\n",
      "1016366     Calvin  2014      M    WY      5\n",
      "1016367    Cameron  2014      M    WY      5\n",
      "1016368     Dalton  2014      M    WY      5\n",
      "1016369     Dawson  2014      M    WY      5\n",
      "1016370     Edward  2014      M    WY      5\n",
      "1016371      Elias  2014      M    WY      5\n",
      "1016372       Gage  2014      M    WY      5\n",
      "1016373     Hayden  2014      M    WY      5\n",
      "1016374     Jasper  2014      M    WY      5\n",
      "1016375       Jose  2014      M    WY      5\n",
      "1016376     Kaiden  2014      M    WY      5\n",
      "1016377      Kaleb  2014      M    WY      5\n",
      "1016378      Kasen  2014      M    WY      5\n",
      "1016379      Kyson  2014      M    WY      5\n",
      "1016380      Lukas  2014      M    WY      5\n",
      "1016381      Myles  2014      M    WY      5\n",
      "1016382  Nathaniel  2014      M    WY      5\n",
      "1016383      Nolan  2014      M    WY      5\n",
      "1016384     Oakley  2014      M    WY      5\n",
      "1016385       Odin  2014      M    WY      5\n",
      "1016386     Paxton  2014      M    WY      5\n",
      "1016387    Raymond  2014      M    WY      5\n",
      "1016388    Richard  2014      M    WY      5\n",
      "1016389      Rowan  2014      M    WY      5\n",
      "1016390       Seth  2014      M    WY      5\n",
      "1016391    Spencer  2014      M    WY      5\n",
      "1016392       Tyce  2014      M    WY      5\n",
      "1016393     Victor  2014      M    WY      5\n",
      "1016394     Waylon  2014      M    WY      5\n",
      "\n",
      "[1016395 rows x 5 columns]\n"
     ]
    }
   ],
   "source": [
    "df.drop(df.columns[0], axis=1, inplace=True)\n",
    "print(df)"
   ]
  },
  {
   "cell_type": "code",
   "execution_count": null,
   "metadata": {},
   "outputs": [],
   "source": [
    "## 2. Show the distribution of male and female"
   ]
  },
  {
   "cell_type": "code",
   "execution_count": 16,
   "metadata": {},
   "outputs": [
    {
     "name": "stdout",
     "output_type": "stream",
     "text": [
      "Year  Gender\n",
      "2004  F         1523496\n",
      "      M         1770488\n",
      "2005  F         1528165\n",
      "      M         1777150\n",
      "2006  F         1564886\n",
      "      M         1822851\n",
      "2007  F         1576648\n",
      "      M         1835769\n",
      "2008  F         1544411\n",
      "      M         1795907\n",
      "2009  F         1493172\n",
      "      M         1738944\n",
      "2010  F         1439346\n",
      "      M         1677202\n",
      "2011  F         1422539\n",
      "      M         1656606\n",
      "2012  F         1422020\n",
      "      M         1651838\n",
      "2013  F         1419351\n",
      "      M         1647092\n",
      "2014  F         1446259\n",
      "      M         1667352\n",
      "Name: Count, dtype: int64\n"
     ]
    }
   ],
   "source": [
    "YDis = df.groupby(['Year','Gender'])['Count'].sum()\n",
    "print(YDis)"
   ]
  },
  {
   "cell_type": "code",
   "execution_count": null,
   "metadata": {},
   "outputs": [],
   "source": [
    "## 3. Show the top 5 most preferred names"
   ]
  },
  {
   "cell_type": "code",
   "execution_count": 15,
   "metadata": {},
   "outputs": [
    {
     "name": "stdout",
     "output_type": "stream",
     "text": [
      "            Count\n",
      "Name             \n",
      "Aaban          12\n",
      "Aadan          23\n",
      "Aadarsh         5\n",
      "Aaden        3426\n",
      "Aadhav          6\n",
      "Aadhya        453\n",
      "Aadi          307\n",
      "Aadin           5\n",
      "Aadit          18\n",
      "Aaditya        97\n",
      "Aadya         300\n",
      "Aadyn          69\n",
      "Aahan          14\n",
      "Aahana        124\n",
      "Aahil         115\n",
      "Aahna           7\n",
      "Aaiden        170\n",
      "Aaima           5\n",
      "Aakash        123\n",
      "Aalaya          5\n",
      "Aalayah        99\n",
      "Aaleah         10\n",
      "Aaleyah       262\n",
      "Aalia          51\n",
      "Aaliah        206\n",
      "Aalijah        15\n",
      "Aaliya        288\n",
      "Aaliyah     48306\n",
      "Aaliyha        21\n",
      "Aalyah        123\n",
      "...           ...\n",
      "Zyir           25\n",
      "Zyire           5\n",
      "Zykeria       416\n",
      "Zykeriah        5\n",
      "Zykerria       36\n",
      "Zykia          31\n",
      "Zykierra        5\n",
      "Zykira         14\n",
      "Zykiria        11\n",
      "Zyla          106\n",
      "Zylah          62\n",
      "Zylan          22\n",
      "Zylen          12\n",
      "Zyler         171\n",
      "Zymari          5\n",
      "Zymarion       15\n",
      "Zymere        100\n",
      "Zymier         16\n",
      "Zymiere        15\n",
      "Zymir         321\n",
      "Zymire         10\n",
      "Zyon         1186\n",
      "Zyonna         61\n",
      "Zyquan         42\n",
      "Zyquavious      6\n",
      "Zyra           42\n",
      "Zyrah          11\n",
      "Zyren           6\n",
      "Zyria          59\n",
      "Zyriah         58\n",
      "\n",
      "[17632 rows x 1 columns]\n",
      "Jacob\n",
      "Emma\n",
      "Michael\n",
      "Ethan\n",
      "Isabella\n"
     ]
    },
    {
     "name": "stderr",
     "output_type": "stream",
     "text": [
      "E:\\Users\\Admin\\Anaconda3\\lib\\site-packages\\ipykernel_launcher.py:1: FutureWarning: using a dict on a Series for aggregation\n",
      "is deprecated and will be removed in a future version\n",
      "  \"\"\"Entry point for launching an IPython kernel.\n"
     ]
    }
   ],
   "source": [
    "A = df.groupby(['Name'])['Count'].agg({'Count':sum})\n",
    "print(A)\n",
    "B = A.sort_values('Count', ascending=False).head(5)\n",
    "for i in B.index.tolist():\n",
    "    print(i)"
   ]
  },
  {
   "cell_type": "code",
   "execution_count": null,
   "metadata": {},
   "outputs": [],
   "source": [
    "## 4.What is the median name occurence in the dataset "
   ]
  },
  {
   "cell_type": "code",
   "execution_count": 17,
   "metadata": {},
   "outputs": [
    {
     "name": "stdout",
     "output_type": "stream",
     "text": [
      "11.0\n"
     ]
    }
   ],
   "source": [
    "print(df.loc[:,\"Count\"].median())"
   ]
  },
  {
   "cell_type": "code",
   "execution_count": null,
   "metadata": {},
   "outputs": [],
   "source": [
    "## 5. Distribution of male and female born count by states"
   ]
  },
  {
   "cell_type": "code",
   "execution_count": 18,
   "metadata": {},
   "outputs": [
    {
     "name": "stdout",
     "output_type": "stream",
     "text": [
      "Gender  State\n",
      "F       AK         26250\n",
      "        AL        215308\n",
      "        AR        129712\n",
      "        AZ        368567\n",
      "        CA       2414063\n",
      "        CO        260805\n",
      "        CT        141350\n",
      "        DC         35276\n",
      "        DE         31312\n",
      "        FL        915422\n",
      "        GA        549637\n",
      "        HI         37279\n",
      "        IA        144764\n",
      "        ID         72808\n",
      "        IL        695312\n",
      "        IN        344962\n",
      "        KS        147216\n",
      "        KY        210201\n",
      "        LA        221859\n",
      "        MA        294236\n",
      "        MD        269915\n",
      "        ME         43718\n",
      "        MI        480990\n",
      "        MN        276884\n",
      "        MO        307848\n",
      "        MS        127343\n",
      "        MT         31622\n",
      "        NC        501151\n",
      "        ND         30054\n",
      "        NE         88998\n",
      "                  ...   \n",
      "M       ME         55650\n",
      "        MI        557090\n",
      "        MN        318917\n",
      "        MO        364924\n",
      "        MS        160800\n",
      "        MT         44143\n",
      "        NC        577529\n",
      "        ND         39507\n",
      "        NE        112369\n",
      "        NH         56482\n",
      "        NJ        487900\n",
      "        NM        113542\n",
      "        NV        156037\n",
      "        NY       1172145\n",
      "        OH        688343\n",
      "        OK        228613\n",
      "        OR        209445\n",
      "        PA        682709\n",
      "        RI         47939\n",
      "        SC        237442\n",
      "        SD         45443\n",
      "        TN        398615\n",
      "        TX       2005394\n",
      "        UT        245324\n",
      "        VA        466873\n",
      "        VT         21353\n",
      "        WA        395377\n",
      "        WI        311758\n",
      "        WV         93557\n",
      "        WY         21912\n",
      "Name: Count, Length: 102, dtype: int64\n"
     ]
    }
   ],
   "source": [
    "SDis = df.groupby(['Gender', 'State'])['Count'].sum()\n",
    "print(SDis)"
   ]
  }
 ],
 "metadata": {
  "kernelspec": {
   "display_name": "Python 3",
   "language": "python",
   "name": "python3"
  },
  "language_info": {
   "codemirror_mode": {
    "name": "ipython",
    "version": 3
   },
   "file_extension": ".py",
   "mimetype": "text/x-python",
   "name": "python",
   "nbconvert_exporter": "python",
   "pygments_lexer": "ipython3",
   "version": "3.6.5"
  }
 },
 "nbformat": 4,
 "nbformat_minor": 2
}
